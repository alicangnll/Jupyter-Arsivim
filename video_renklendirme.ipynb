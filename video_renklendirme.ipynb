{
  "cells": [
    {
      "cell_type": "markdown",
      "metadata": {
        "id": "LPi9ZUF8DMOq"
      },
      "source": [
        "Yapay Zeka ile Siyah-Beyaz Video Renklendirme\n",
        "\n",
        "NOT 2 : Proje için CUDA destekli bir GPU gerekiyor. **Çalışma Zamanı > Çalışma Zamanı Türünü Değiştir > GPU** kısmını aktif etmeniz gerekiyor\n",
        "\n",
        "NOT : Colab üzerinden “Restart Runtime” hatası alırsanız yükleme tamamlandıktan sonra üzerine tıklayın ve yüklemeyi yeniden başlatın sorun çözülecektir.\n"
      ]
    },
    {
      "cell_type": "markdown",
      "metadata": {
        "id": "86vXtSmaDTda"
      },
      "source": [
        "Öncelikle DeOldify kütüphanesini  ve gerekli PIP paketlerini klonluyoruz"
      ]
    },
    {
      "cell_type": "code",
      "execution_count": null,
      "metadata": {
        "id": "6UYhw4F2DH2f"
      },
      "outputs": [],
      "source": [
        "!pip install requests\n",
        "!pip install deoldify\n",
        "!pip uninstall fastai\n",
        "!wget https://raw.githubusercontent.com/jantic/DeOldify/master/requirements-colab.txt -O requirements-colab.txt\n",
        "!pip install -r requirements-colab.txt\n",
        "!pip install fastai==1.0.51\n",
        "!mkdir 'models'\n",
        "!wget https://data.deepai.org/deoldify/ColorizeVideo_gen.pth -O ./models/ColorizeVideo_gen.pth"
      ]
    },
    {
      "cell_type": "markdown",
      "metadata": {
        "id": "iUzxSAs0DlK8"
      },
      "source": [
        "Şimdi DeOldify ile GPU üzerinden resmimizi işlemek için GPU0'ı seçiyoruz (CUDA destekli bir ekran kartı gerekiyor)"
      ]
    },
    {
      "cell_type": "code",
      "execution_count": null,
      "metadata": {
        "id": "VZFsDzqWDwSn"
      },
      "outputs": [],
      "source": [
        "from deoldify import device\n",
        "from deoldify.device_id import DeviceId\n",
        "import torch\n",
        "device.set(device=DeviceId.GPU0)\n",
        "if not torch.cuda.is_available():\n",
        "  print(\"Ekran kartı CUDA desteklemiyor\")\n",
        "else:\n",
        "  print(\"Ekran kartınız CUDA destekliyor!\")"
      ]
    },
    {
      "cell_type": "markdown",
      "metadata": {
        "id": "IbFudBJiD3aB"
      },
      "source": [
        "İşleme kodlarımızı yazıyoruz"
      ]
    },
    {
      "cell_type": "code",
      "execution_count": null,
      "metadata": {
        "id": "NtIrA43ZEV4a"
      },
      "outputs": [],
      "source": [
        "import fastai\n",
        "import warnings\n",
        "import requests\n",
        "import shutil\n",
        "import sys\n",
        "from deoldify.visualize import *\n",
        "\n",
        "warnings.filterwarnings(\"ignore\", category=UserWarning, message=\".*?Your .*? set is empty.*?\")\n",
        "\n",
        "renderfactor = 38 # Render Factor ayarı\n",
        "watermark = False # Watermark varsa True\n",
        "url = input(\"Video URL : \") # Siyah-beyaz video URL (YouTube vs olabilir) https://archivedvideos.tmgrup.com.tr/Video/2015/06/18/sbh1434618287604.mp4\n",
        "file_name =input(\"Video Filename : \") # Dosya adımızı giriyoruz\n",
        "\n",
        "colorizer = get_video_colorizer() #Resim renklendirme programı başlıyor\n",
        "video_path = colorizer.colorize_from_url(url, file_name, render_factor=renderfactor, watermarked=watermark)  # Renklendirme işlemi\n",
        "show_video_in_notebook(video_path)\n"
      ]
    }
  ],
  "metadata": {
    "accelerator": "GPU",
    "colab": {
      "provenance": []
    },
    "gpuClass": "standard",
    "kernelspec": {
      "display_name": "Python 3",
      "language": "python",
      "name": "python3"
    },
    "language_info": {
      "name": "python",
      "version": "3.10.9 (tags/v3.10.9:1dd9be6, Dec  6 2022, 20:01:21) [MSC v.1934 64 bit (AMD64)]"
    },
    "vscode": {
      "interpreter": {
        "hash": "1c26c763514c02fd5fdd401f7e2b8072d14a25a515be3e715b7008338d083325"
      }
    }
  },
  "nbformat": 4,
  "nbformat_minor": 0
}