{
  "nbformat": 4,
  "nbformat_minor": 0,
  "metadata": {
    "colab": {
      "provenance": []
    },
    "kernelspec": {
      "name": "python3",
      "display_name": "Python 3"
    },
    "language_info": {
      "name": "python"
    }
  },
  "cells": [
    {
      "cell_type": "code",
      "execution_count": null,
      "metadata": {
        "id": "-VTrID34Ahlt"
      },
      "outputs": [],
      "source": [
        "%pip install transformers torch datasets"
      ]
    },
    {
      "cell_type": "code",
      "source": [
        "#@title HuggingFace Class\n",
        "from transformers import AutoTokenizer, AutoModelForCausalLM, pipeline"
      ],
      "metadata": {
        "id": "8bUgRPlxAkeT"
      },
      "execution_count": 2,
      "outputs": []
    },
    {
      "cell_type": "code",
      "source": [
        "#@title CelebrasGPT 1.3B Modeli (Üstü RAM hatası veriyor Pro kullanıcıları ve/veya diğer kullanıcılar kullanabilir)\n",
        "tokenizer = AutoTokenizer.from_pretrained(\"cerebras/Cerebras-GPT-1.3B\")\n",
        "model = AutoModelForCausalLM.from_pretrained(\"cerebras/Cerebras-GPT-1.3B\")"
      ],
      "metadata": {
        "id": "j0TZuK5_-lR5"
      },
      "execution_count": null,
      "outputs": []
    },
    {
      "cell_type": "code",
      "source": [
        "text = input(\"Question : \")"
      ],
      "metadata": {
        "id": "rPMi5kdn-5xI"
      },
      "execution_count": null,
      "outputs": []
    },
    {
      "cell_type": "code",
      "source": [
        "#@title Text Generator (Konuşkan Olan)\n",
        "inputs = tokenizer(text, return_tensors=\"pt\")\n",
        "outputs = model.generate(**inputs, num_beams=5, max_new_tokens=50, early_stopping=True, no_repeat_ngram_size=2)\n",
        "text_output = tokenizer.batch_decode(outputs, skip_special_tokens=True)\n",
        "print(text_output[0])"
      ],
      "metadata": {
        "id": "-C75VscO_CiR"
      },
      "execution_count": null,
      "outputs": []
    }
  ]
}