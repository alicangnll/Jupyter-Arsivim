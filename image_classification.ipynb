{
  "nbformat": 4,
  "nbformat_minor": 0,
  "metadata": {
    "colab": {
      "provenance": []
    },
    "kernelspec": {
      "name": "python3",
      "display_name": "Python 3"
    },
    "language_info": {
      "name": "python"
    }
  },
  "cells": [
    {
      "cell_type": "markdown",
      "source": [
        "**Install Classes**"
      ],
      "metadata": {
        "id": "GhvrksPsUnqp"
      }
    },
    {
      "cell_type": "code",
      "execution_count": null,
      "metadata": {
        "id": "w1KZmG_HOdhn"
      },
      "outputs": [],
      "source": [
        "%pip install transformers torch datasets opencv-python deep-translator"
      ]
    },
    {
      "cell_type": "code",
      "source": [
        "import requests, random\n",
        "from PIL import Image\n",
        "from transformers import BlipProcessor, BlipForConditionalGeneration\n",
        "from deep_translator import GoogleTranslator"
      ],
      "metadata": {
        "id": "TqCSm8KqOnOI"
      },
      "execution_count": 13,
      "outputs": []
    },
    {
      "cell_type": "markdown",
      "source": [
        "**Image Classification**\n",
        "\n",
        "You have to choose base or large model"
      ],
      "metadata": {
        "id": "bftN6sbSPevu"
      }
    },
    {
      "cell_type": "markdown",
      "source": [
        "**Veri boyutunun ML (Makine Öğrenmesi) yazılımlarının çalışması kalitesindeki etkisi**\n",
        "\n",
        "Base : Küçük bir modeldir. İçerisindeki veri az olduğu için yorumlama yeteneği düşüktür. Fenerbahçe'yi çubuklu formadan dolayı Juventus zannetti.\n",
        "\n",
        "Large: Büyük bir modeldir. İçerisindeki veri fazla olduğu için bunun Juventus değil farklı bir spor kulübü olduğunu tanımladı fakat Fenerbahçe verisi içerisinde olmadığı için Fenerbahçe olduğunu anlayamadı"
      ],
      "metadata": {
        "id": "7Bsp2xG9c1qu"
      }
    },
    {
      "cell_type": "code",
      "source": [
        "#@title Image Model (Large)\n",
        "model_type = \" (large)\"\n",
        "processor = BlipProcessor.from_pretrained(\"Salesforce/blip-image-captioning-large\")\n",
        "model = BlipForConditionalGeneration.from_pretrained(\"Salesforce/blip-image-captioning-large\")"
      ],
      "metadata": {
        "id": "dThFqMlIPhXZ",
        "cellView": "form"
      },
      "execution_count": 2,
      "outputs": []
    },
    {
      "cell_type": "code",
      "source": [
        "#@title Image Model (Base)\n",
        "model_type = \" (base)\"\n",
        "processor = BlipProcessor.from_pretrained(\"Salesforce/blip-image-captioning-base\")\n",
        "model = BlipForConditionalGeneration.from_pretrained(\"Salesforce/blip-image-captioning-base\")"
      ],
      "metadata": {
        "id": "DA6iT4o1a7Og",
        "cellView": "form"
      },
      "execution_count": null,
      "outputs": []
    },
    {
      "cell_type": "markdown",
      "source": [
        "**Image -> Text**"
      ],
      "metadata": {
        "id": "o1lDCXdPc5Rn"
      }
    },
    {
      "cell_type": "code",
      "source": [
        "img_url = 'https://pbs.twimg.com/media/FvdVBzzXoAEissy?format=jpg&name=medium' \n",
        "raw_image = Image.open(requests.get(img_url, stream=True).raw).convert('RGB')\n",
        "rand = str(random.randint(100,999))\n",
        "im1 = raw_image.save(\"newpic.jpg\")"
      ],
      "metadata": {
        "id": "J-DnN-UsQV2u"
      },
      "execution_count": 3,
      "outputs": []
    },
    {
      "cell_type": "code",
      "source": [
        "inputs = processor(raw_image, \"a photography of\", return_tensors=\"pt\")\n",
        "out = model.generate(**inputs)\n",
        "output_text = processor.decode(out[0], skip_special_tokens=True)\n",
        "print(output_text)"
      ],
      "metadata": {
        "id": "ROmd9mz2QUFV"
      },
      "execution_count": null,
      "outputs": []
    },
    {
      "cell_type": "markdown",
      "source": [
        "**Translate Text**"
      ],
      "metadata": {
        "id": "Fe7gOZ66Mus3"
      }
    },
    {
      "cell_type": "code",
      "source": [
        "out = GoogleTranslator(source='auto', target='tr').translate(output_text)\n",
        "translated_text = str(out).replace(\"ö\", \"o\").replace(\"ü\",\"u\").replace(\"ç\",\"c\").replace(\"ğ\",\"g\").replace(\"ş\",\"s\").replace(\"ı\", \"i\")"
      ],
      "metadata": {
        "id": "YMNuIgUiMwuZ"
      },
      "execution_count": 23,
      "outputs": []
    },
    {
      "cell_type": "markdown",
      "source": [
        "**Add text to image**"
      ],
      "metadata": {
        "id": "wZG6qAFaSlcb"
      }
    },
    {
      "cell_type": "code",
      "source": [
        "import cv2\n",
        "im = cv2.imread(\"newpic.jpg\", 1)\n",
        "x,y,w,h = 0,0,2500,55\n",
        "cv2.rectangle(im, (x, x), (x + w, y + h), (0,0,0), -1)\n",
        "cv2.putText(im, translated_text + model_type, (x + int(w/13),y + int(h/2)), cv2.FONT_HERSHEY_SIMPLEX, 0.6, (255,255,255), 2)\n",
        "cv2.imwrite(\"newpic_\" + rand + \".jpg\", im)\n",
        "print(\"Saved to newpic_\" + rand + \".jpg\")"
      ],
      "metadata": {
        "id": "1YmAfeJWSoM0",
        "colab": {
          "base_uri": "https://localhost:8080/"
        },
        "outputId": "9d3eb037-3950-4c42-8d51-4aecba3edd1d"
      },
      "execution_count": 24,
      "outputs": [
        {
          "output_type": "stream",
          "name": "stdout",
          "text": [
            "Saved to newpic_761.jpg\n"
          ]
        }
      ]
    }
  ]
}