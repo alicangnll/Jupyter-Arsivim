{
  "cells": [
    {
      "cell_type": "markdown",
      "metadata": {
        "id": "LPi9ZUF8DMOq"
      },
      "source": [
        "Yapay Zeka ile Siyah-Beyaz Resim Renklendirme\n",
        "\n",
        "Kaynak : https://github.com/Deepandreinforcement/Resim-Renklendirme/blob/main/ImageColorizer.ipynb\n",
        "\n",
        "NOT : Bu projeyi hazır olarak alıp kopyala yapıştır yapmadım. Ufak eklemeler de yaptım fakat elinizde kaynak olarak bulunması için projenin büyük bölümünün sahibini de desteklemek amacıyla ekledim.\n",
        "\n",
        "NOT 2 : Proje için CUDA destekli bir GPU gerekiyor. **Çalışma Zamanı > Çalışma Zamanı Türünü Değiştir > GPU** kısmını aktif etmeniz gerekiyor\n"
      ]
    },
    {
      "cell_type": "markdown",
      "metadata": {
        "id": "86vXtSmaDTda"
      },
      "source": [
        "Öncelikle DeOldify kütüphanesini  ve gerekli PIP paketlerini klonluyoruz"
      ]
    },
    {
      "cell_type": "code",
      "execution_count": null,
      "metadata": {
        "id": "6UYhw4F2DH2f"
      },
      "outputs": [],
      "source": [
        "!pip install requests\n",
        "!pip install pillow\n",
        "!pip install deoldify\n",
        "!mkdir 'models'\n",
        "!wget https://raw.githubusercontent.com/jantic/DeOldify/master/requirements-colab.txt -O requirements-colab.txt\n",
        "!pip install -r requirements-colab.txt\n",
        "!wget https://data.deepai.org/deoldify/ColorizeArtistic_gen.pth -O ./models/ColorizeArtistic_gen.pth #https://transfer.sh/get/HEGh5O/ColorizeArtistic_gen.pth"
      ]
    },
    {
      "cell_type": "markdown",
      "metadata": {
        "id": "iUzxSAs0DlK8"
      },
      "source": [
        "Şimdi deoldify ile GPU üzerinden resmimizi işlemek için GPU0'ı seçiyoruz (CUDA destekli bir ekran kartı gerekiyor)"
      ]
    },
    {
      "cell_type": "code",
      "execution_count": null,
      "metadata": {
        "id": "VZFsDzqWDwSn",
        "colab": {
          "base_uri": "https://localhost:8080/"
        },
        "outputId": "70e536dc-9c4c-42e5-a2cd-c6f43f9480eb"
      },
      "outputs": [
        {
          "output_type": "stream",
          "name": "stdout",
          "text": [
            "Ekran kartınız CUDA destekliyor!\n"
          ]
        }
      ],
      "source": [
        "from deoldify import device\n",
        "from deoldify.device_id import DeviceId\n",
        "import torch\n",
        "device.set(device=DeviceId.GPU0)\n",
        "if not torch.cuda.is_available():\n",
        "  print(\"Ekran kartı CUDA desteklemiyor\")\n",
        "else:\n",
        "  print(\"Ekran kartınız CUDA destekliyor!\")"
      ]
    },
    {
      "cell_type": "markdown",
      "metadata": {
        "id": "IbFudBJiD3aB"
      },
      "source": [
        "İşleme kodlarımızı yazıyoruz"
      ]
    },
    {
      "cell_type": "code",
      "execution_count": null,
      "metadata": {
        "id": "NtIrA43ZEV4a"
      },
      "outputs": [],
      "source": [
        "import fastai\n",
        "import warnings\n",
        "import requests\n",
        "import shutil\n",
        "import sys\n",
        "from deoldify.visualize import *\n",
        "\n",
        "warnings.filterwarnings(\"ignore\", category=UserWarning, message=\".*?Your .*? set is empty.*?\")\n",
        "\n",
        "renderfactor = 50 # Render Factor ayarı\n",
        "watermark = False # Watermark varsa True\n",
        "compare_images = True # İki resmi karşılaştırmak isterseniz True\n",
        "\n",
        "url = input(\"Photo URL : \") # Siyah-beyaz fotoğraf URL (Örnek : https://i.hizliresim.com/h0vad25.jpg veya https://cdn.eksisozluk.com/2021/4/28/0/0dkq19cp.jpg)\n",
        "file_name =input(\"Photo Filename : \") # Dosya adımızı giriyoruz\n",
        "res = requests.get(url, stream = True) # Dosyamızı indiriyoruz\n",
        "\n",
        "if res.status_code == 200: #Eğer dosyayı indirebilirse işleme başlıyor\n",
        "    with open(file_name,'wb') as f:\n",
        "        shutil.copyfileobj(res.raw, f)\n",
        "    print(\"Resim başarıyla indirildi. İşleme alınıyor...\")\n",
        "    colorizer = get_image_colorizer(artistic=True) #Resim renklendirme programı başlıyor\n",
        "    colorizer.plot_transformed_image(file_name, render_factor=renderfactor, compare=compare_images, watermarked=watermark) # Renklendirme işlemi\n",
        "    #for i in range(10,40,2): Farklı render factorler isterseniz\n",
        "      #colorizer.plot_transformed_image('/content/' + file_name, render_factor=i, display_render_factor=True, figsize=(8,8))\n",
        "else:\n",
        "    print('Resim indirilemedi : (Hata Kodu : ' + str(res.status_code) + ')')\n",
        "    sys.exit()"
      ]
    }
  ],
  "metadata": {
    "accelerator": "GPU",
    "colab": {
      "provenance": []
    },
    "gpuClass": "standard",
    "kernelspec": {
      "display_name": "Python 3",
      "name": "python3"
    },
    "language_info": {
      "name": "python"
    }
  },
  "nbformat": 4,
  "nbformat_minor": 0
}